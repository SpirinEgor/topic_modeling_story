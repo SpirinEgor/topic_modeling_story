{
 "cells": [
  {
   "cell_type": "code",
   "execution_count": 34,
   "metadata": {
    "collapsed": true
   },
   "outputs": [
    {
     "name": "stdout",
     "output_type": "stream",
     "text": [
      "The autoreload extension is already loaded. To reload it, use:\n",
      "  %reload_ext autoreload\n"
     ]
    }
   ],
   "source": [
    "from collections import Counter\n",
    "\n",
    "import seaborn as sns\n",
    "from contextualized_topic_models.utils.data_preparation import TopicModelDataPreparation\n",
    "from contextualized_topic_models.utils.preprocessing import WhiteSpacePreprocessingStopwords\n",
    "from nltk.corpus import stopwords\n",
    "\n",
    "from src.dataset import YouTrackIssueDataset\n",
    "\n",
    "%matplotlib inline\n",
    "%load_ext autoreload\n",
    "%autoreload 2"
   ]
  },
  {
   "cell_type": "code",
   "execution_count": 33,
   "outputs": [
    {
     "data": {
      "text/plain": "22014"
     },
     "execution_count": 33,
     "metadata": {},
     "output_type": "execute_result"
    }
   ],
   "source": [
    "dataset = YouTrackIssueDataset(\"data/pycharm_issues.json\")\n",
    "len(dataset)"
   ],
   "metadata": {
    "collapsed": false,
    "pycharm": {
     "name": "#%%\n"
    }
   }
  },
  {
   "cell_type": "code",
   "execution_count": 20,
   "outputs": [
    {
     "data": {
      "text/plain": "<AxesSubplot:>"
     },
     "execution_count": 20,
     "metadata": {},
     "output_type": "execute_result"
    },
    {
     "data": {
      "text/plain": "<Figure size 1800x720 with 1 Axes>",
      "image/png": "[encoded data removed]"
     },
     "metadata": {},
     "output_type": "display_data"
    }
   ],
   "source": [
    "version_counts = Counter([it for v in dataset for it in v.affected_versions])\n",
    "version_counts = sorted(version_counts.items(), key=lambda x: int(x[0][:4] + x[0][-1]))\n",
    "versions, counts = zip(*version_counts)\n",
    "\n",
    "sns.set_theme(rc={\"figure.figsize\": (25, 10)})\n",
    "sns.barplot(x=list(versions), y=list(counts))"
   ],
   "metadata": {
    "collapsed": false,
    "pycharm": {
     "name": "#%%\n"
    }
   }
  },
  {
   "cell_type": "code",
   "execution_count": 35,
   "outputs": [
    {
     "name": "stdout",
     "output_type": "stream",
     "text": [
      "CPU times: user 7.76 s, sys: 107 ms, total: 7.87 s\n",
      "Wall time: 7.92 s\n"
     ]
    }
   ],
   "source": [
    "%%time\n",
    "documents = [dataset[i][0] for i in range(len(dataset))]\n",
    "sp = WhiteSpacePreprocessingStopwords(documents, stopwords_list=stopwords.words(\"english\"))\n",
    "preprocessed_documents, unpreprocessed_corpus, vocab = sp.preprocess()"
   ],
   "metadata": {
    "collapsed": false,
    "pycharm": {
     "name": "#%%\n"
    }
   }
  },
  {
   "cell_type": "code",
   "execution_count": 36,
   "outputs": [
    {
     "data": {
      "text/plain": "['parameter foo false inspection qt calls getting false incorrect call argument inspection warnings code used pass inspections fine code without issue examples code box pycharm parameter box select image code code class def init self pycharm parameter flags super init code',\n 'python extract incorrect order classes base class new added original base class end example python class good object def foo self return good class bad object def foo self return bad class good bad def foo self return super self foo class good bad def foo self return super self foo assert foo good assert foo good print ok would like extract new class previous good foo running extract get python class good object def foo self return good class bad object def foo self return bad class good def foo self return super self foo class bad pass class good bad def foo self return super self foo assert foo good assert foo good print ok fails incorrect order correct order class bad since good']"
     },
     "execution_count": 36,
     "metadata": {},
     "output_type": "execute_result"
    }
   ],
   "source": [
    "preprocessed_documents[:2]"
   ],
   "metadata": {
    "collapsed": false,
    "pycharm": {
     "name": "#%%\n"
    }
   }
  },
  {
   "cell_type": "code",
   "execution_count": 37,
   "outputs": [
    {
     "data": {
      "text/plain": "['\"Parameter foo unfilled\": false positives for inspection of Qt calls I\\'m getting false \"Incorrect call argument\" inspection warnings for code that used to pass inspections just fine.  The code executes without issue.\\n\\nSome examples:\\n\\n{code}\\nh_box = QHBoxLayout()\\n# PyCharm claims that parameter \\'alignment\\' is unfilled.\\nh_box.addWidget(QLabel(\\'Select an image:\\'))\\n{code}\\n\\n{code}\\nclass MainWindow(QMainWindow):\\n    def __init__(self):\\n        # PyCharm claims that parameter \\'flags\\' is unfilled.\\n        super().__init__()\\n{code}',\n 'Python Extract Superclass: Incorrect Order of Inherited Classes When extracting superclasses, if extractions includes a base class, new superclass should be added where original base class appeared (and not appended at end).\\n\\nFor example, before extraction:\\n```python\\nclass Good(object):\\n    def foo(self):\\n        return \"good\"\\n\\n\\nclass Bad(object):\\n    def foo(self):\\n        return \"bad\"\\n\\n\\nclass B1(Good, Bad):\\n    def foo(self):\\n        return super(B1, self).foo() + \"!\"\\n\\n\\nclass B2(Good, Bad):\\n    def foo(self):\\n        return super(B2, self).foo() + \"!\"\\n\\n\\nassert B1().foo() == \"good!\"\\nassert B2().foo() == \"good!\"\\nprint(\"OK\")\\n```\\n\\nWe would like to extract into a new `B` class the previous inheritance from `Good` and `foo()`.\\n\\nAfter running extract superclass, we get:\\n\\n```python\\nclass Good(object):\\n    def foo(self):\\n        return \"good\"\\n\\n\\nclass Bad(object):\\n    def foo(self):\\n        return \"bad\"\\n    \\n\\nclass B(Good):\\n    def foo(self):\\n        return super(B1, self).foo() + \"!\"\\n\\n\\nclass B1(Bad, B):\\n    pass\\n\\n\\nclass B2(Good, Bad):\\n    def foo(self):\\n        return super(B2, self).foo() + \"!\"\\n\\n\\nassert B1().foo() == \"good!\"\\nassert B2().foo() == \"good!\"\\nprint(\"OK\")\\n```\\n\\nWhich fails because of incorrect order of inheritance in B1.  \\n\\nThe correct order should be `class B1(B, Bad)` since B replaces the inheritance from `Good`.']"
     },
     "execution_count": 37,
     "metadata": {},
     "output_type": "execute_result"
    }
   ],
   "source": [
    "unpreprocessed_corpus[:2]"
   ],
   "metadata": {
    "collapsed": false,
    "pycharm": {
     "name": "#%%\n"
    }
   }
  },
  {
   "cell_type": "code",
   "execution_count": null,
   "outputs": [
    {
     "data": {
      "text/plain": "Downloading:   0%|          | 0.00/483 [00:00<?, ?B/s]",
      "application/vnd.jupyter.widget-view+json": {
       "version_major": 2,
       "version_minor": 0,
       "model_id": "f487d93834964c8d8ebe5c65cff5d1ed"
      }
     },
     "metadata": {},
     "output_type": "display_data"
    },
    {
     "data": {
      "text/plain": "Downloading:   0%|          | 0.00/1.84k [00:00<?, ?B/s]",
      "application/vnd.jupyter.widget-view+json": {
       "version_major": 2,
       "version_minor": 0,
       "model_id": "dc232d6ef1b8443aae62acea87325a67"
      }
     },
     "metadata": {},
     "output_type": "display_data"
    },
    {
     "data": {
      "text/plain": "Downloading:   0%|          | 0.00/1.20k [00:00<?, ?B/s]",
      "application/vnd.jupyter.widget-view+json": {
       "version_major": 2,
       "version_minor": 0,
       "model_id": "50c78d68b76d47648b56a9f0874418f3"
      }
     },
     "metadata": {},
     "output_type": "display_data"
    },
    {
     "data": {
      "text/plain": "Downloading:   0%|          | 0.00/242M [00:00<?, ?B/s]",
      "application/vnd.jupyter.widget-view+json": {
       "version_major": 2,
       "version_minor": 0,
       "model_id": "4b13617f68db40798cdffda6af1546ce"
      }
     },
     "metadata": {},
     "output_type": "display_data"
    },
    {
     "data": {
      "text/plain": "Downloading:   0%|          | 0.00/792k [00:00<?, ?B/s]",
      "application/vnd.jupyter.widget-view+json": {
       "version_major": 2,
       "version_minor": 0,
       "model_id": "ee68763a83d8492783295f5b0c223627"
      }
     },
     "metadata": {},
     "output_type": "display_data"
    },
    {
     "data": {
      "text/plain": "Downloading:   0%|          | 0.00/1.39M [00:00<?, ?B/s]",
      "application/vnd.jupyter.widget-view+json": {
       "version_major": 2,
       "version_minor": 0,
       "model_id": "e4c87ccb89e04838b6f8ec56ae46986d"
      }
     },
     "metadata": {},
     "output_type": "display_data"
    },
    {
     "name": "stderr",
     "output_type": "stream",
     "text": [
      "WARNING:root:No sentence-transformers model found with name /Users/Egor.Spirin/.cache/torch/sentence_transformers/t5-small. Creating a new one with MEAN pooling.\n"
     ]
    },
    {
     "data": {
      "text/plain": "Batches:   0%|          | 0/111 [00:00<?, ?it/s]",
      "application/vnd.jupyter.widget-view+json": {
       "version_major": 2,
       "version_minor": 0,
       "model_id": "d45d409c09854858a2ffe94b7a09a295"
      }
     },
     "metadata": {},
     "output_type": "display_data"
    },
    {
     "name": "stderr",
     "output_type": "stream",
     "text": [
      "Asking to truncate to max_length but no maximum length is provided and the model has no predefined maximum length. Default to no truncation.\n"
     ]
    }
   ],
   "source": [
    "%%time\n",
    "tp = TopicModelDataPreparation(\"t5-small\")\n",
    "training_dataset = tp.fit(text_for_contextual=unpreprocessed_corpus, text_for_bow=preprocessed_documents)"
   ],
   "metadata": {
    "collapsed": false,
    "pycharm": {
     "name": "#%%\n",
     "is_executing": true
    }
   }
  },
  {
   "cell_type": "code",
   "execution_count": null,
   "outputs": [],
   "source": [],
   "metadata": {
    "collapsed": false,
    "pycharm": {
     "name": "#%%\n"
    }
   }
  }
 ],
 "metadata": {
  "kernelspec": {
   "display_name": "Python 3",
   "language": "python",
   "name": "python3"
  },
  "language_info": {
   "codemirror_mode": {
    "name": "ipython",
    "version": 2
   },
   "file_extension": ".py",
   "mimetype": "text/x-python",
   "name": "python",
   "nbconvert_exporter": "python",
   "pygments_lexer": "ipython2",
   "version": "2.7.6"
  }
 },
 "nbformat": 4,
 "nbformat_minor": 0
}